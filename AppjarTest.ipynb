{
 "cells": [
  {
   "cell_type": "code",
   "execution_count": 1,
   "metadata": {},
   "outputs": [],
   "source": [
    "from appJar import gui"
   ]
  },
  {
   "cell_type": "code",
   "execution_count": 2,
   "metadata": {},
   "outputs": [
    {
     "name": "stderr",
     "output_type": "stream",
     "text": [
      "2020-12-12 09:51:35,296 appJar:WARNING [799/_checkMode]: Interactive mode is not fully tested, some features might not work.\n",
      "2020-12-12 09:51:35,298 appJar:WARNING [810/_checkMode]: iPython is not fully tested, some features might not work.\n"
     ]
    }
   ],
   "source": [
    "app = gui()"
   ]
  },
  {
   "cell_type": "code",
   "execution_count": 3,
   "metadata": {},
   "outputs": [],
   "source": [
    "app.addLabel(\"title\", \"Fire Chart Comparison tool\")\n",
    "app.setLabelBg(\"title\", \"White\")"
   ]
  },
  {
   "cell_type": "code",
   "execution_count": null,
   "metadata": {},
   "outputs": [],
   "source": []
  },
  {
   "cell_type": "code",
   "execution_count": 4,
   "metadata": {},
   "outputs": [],
   "source": [
    "app.go()\n"
   ]
  },
  {
   "cell_type": "code",
   "execution_count": 1,
   "metadata": {},
   "outputs": [
    {
     "name": "stderr",
     "output_type": "stream",
     "text": [
      "2020-12-15 20:17:58,186 appJar:WARNING [799/_checkMode]: Interactive mode is not fully tested, some features might not work.\n",
      "2020-12-15 20:17:58,189 appJar:WARNING [810/_checkMode]: iPython is not fully tested, some features might not work.\n"
     ]
    }
   ],
   "source": [
    "from appJar import gui \n",
    "\n",
    "with gui() as app:\n",
    "    fig = app.addPlotFig(\"p1\")\n",
    "    ax = fig.add_subplot(111)\n",
    "    ax.plot([1,2])"
   ]
  },
  {
   "cell_type": "code",
   "execution_count": 1,
   "metadata": {},
   "outputs": [
    {
     "name": "stderr",
     "output_type": "stream",
     "text": [
      "2020-12-18 20:22:48,273 appJar:WARNING [799/_checkMode]: Interactive mode is not fully tested, some features might not work.\n",
      "2020-12-18 20:22:48,275 appJar:WARNING [810/_checkMode]: iPython is not fully tested, some features might not work.\n"
     ]
    }
   ],
   "source": [
    "    from appJar import gui\n",
    "\n",
    "    # the title of the button will be received as a parameter\n",
    "    x=0\n",
    "    def press(btn):\n",
    "        global x\n",
    "        x+=1\n",
    "        app.setLabel(\"l1\", str(x))\n",
    "\n",
    "\n",
    "\n",
    "    app=gui()\n",
    "    # 3 buttons, each calling the same function\n",
    "    app.addButton(\"One\", press)\n",
    "    app.addButton(\"Two\", press)\n",
    "    app.addButton(\"Three\", press)\n",
    "    app.addLabel(\"l1\", str(x))\n",
    "    \n",
    "    app.addOpenEntry('find your file')\n",
    "    app.go()"
   ]
  },
  {
   "cell_type": "code",
   "execution_count": null,
   "metadata": {},
   "outputs": [],
   "source": []
  },
  {
   "cell_type": "code",
   "execution_count": 1,
   "metadata": {},
   "outputs": [],
   "source": [
    "import pandas as pd\n",
    "import numpy as np\n",
    "import matplotlib.pyplot as plt\n",
    "from PIL import Image, ImageTk\n",
    "\n",
    "from appJar import gui\n",
    "\n",
    "data=pd.read_csv(\"ALL PINK SENSORS-0601 REV-F-FLOURESCENT LAMP CLOSE IN-6 IN RANDOM MODULATION.txt\", header = None)"
   ]
  },
  {
   "cell_type": "code",
   "execution_count": 11,
   "metadata": {},
   "outputs": [
    {
     "data": {
      "text/html": [
       "<div>\n",
       "<style scoped>\n",
       "    .dataframe tbody tr th:only-of-type {\n",
       "        vertical-align: middle;\n",
       "    }\n",
       "\n",
       "    .dataframe tbody tr th {\n",
       "        vertical-align: top;\n",
       "    }\n",
       "\n",
       "    .dataframe thead th {\n",
       "        text-align: right;\n",
       "    }\n",
       "</style>\n",
       "<table border=\"1\" class=\"dataframe\">\n",
       "  <thead>\n",
       "    <tr style=\"text-align: right;\">\n",
       "      <th></th>\n",
       "      <th>1</th>\n",
       "      <th>2</th>\n",
       "      <th>3</th>\n",
       "      <th>4</th>\n",
       "      <th>5</th>\n",
       "      <th>6</th>\n",
       "      <th>7</th>\n",
       "      <th>8</th>\n",
       "      <th>9</th>\n",
       "      <th>10</th>\n",
       "      <th>11</th>\n",
       "      <th>12</th>\n",
       "    </tr>\n",
       "  </thead>\n",
       "  <tbody>\n",
       "    <tr>\n",
       "      <th>1</th>\n",
       "      <td>1.7560</td>\n",
       "      <td>2.0270</td>\n",
       "      <td>2.1128</td>\n",
       "      <td>0</td>\n",
       "      <td>T-H</td>\n",
       "      <td>0.0</td>\n",
       "      <td>0.0</td>\n",
       "      <td>1.1911</td>\n",
       "      <td>1.5495</td>\n",
       "      <td>1.2146</td>\n",
       "      <td>5502.0</td>\n",
       "      <td>32.0</td>\n",
       "    </tr>\n",
       "    <tr>\n",
       "      <th>2</th>\n",
       "      <td>1.8959</td>\n",
       "      <td>2.2239</td>\n",
       "      <td>2.5790</td>\n",
       "      <td>0</td>\n",
       "      <td>T-H</td>\n",
       "      <td>0.0</td>\n",
       "      <td>0.0</td>\n",
       "      <td>1.1911</td>\n",
       "      <td>1.5473</td>\n",
       "      <td>1.2975</td>\n",
       "      <td>5502.0</td>\n",
       "      <td>32.0</td>\n",
       "    </tr>\n",
       "    <tr>\n",
       "      <th>3</th>\n",
       "      <td>1.8862</td>\n",
       "      <td>2.3092</td>\n",
       "      <td>2.4533</td>\n",
       "      <td>0</td>\n",
       "      <td>T-H</td>\n",
       "      <td>0.0</td>\n",
       "      <td>0.0</td>\n",
       "      <td>1.1532</td>\n",
       "      <td>1.3844</td>\n",
       "      <td>1.2268</td>\n",
       "      <td>5502.0</td>\n",
       "      <td>32.0</td>\n",
       "    </tr>\n",
       "    <tr>\n",
       "      <th>4</th>\n",
       "      <td>1.8554</td>\n",
       "      <td>2.4221</td>\n",
       "      <td>2.1508</td>\n",
       "      <td>0</td>\n",
       "      <td>T-H</td>\n",
       "      <td>0.0</td>\n",
       "      <td>0.0</td>\n",
       "      <td>1.1532</td>\n",
       "      <td>1.4365</td>\n",
       "      <td>1.2423</td>\n",
       "      <td>5500.0</td>\n",
       "      <td>32.0</td>\n",
       "    </tr>\n",
       "    <tr>\n",
       "      <th>5</th>\n",
       "      <td>1.8554</td>\n",
       "      <td>2.5357</td>\n",
       "      <td>2.2598</td>\n",
       "      <td>0</td>\n",
       "      <td>T-H</td>\n",
       "      <td>0.0</td>\n",
       "      <td>0.0</td>\n",
       "      <td>1.1532</td>\n",
       "      <td>1.5749</td>\n",
       "      <td>1.2110</td>\n",
       "      <td>5500.0</td>\n",
       "      <td>32.0</td>\n",
       "    </tr>\n",
       "  </tbody>\n",
       "</table>\n",
       "</div>"
      ],
      "text/plain": [
       "       1       2       3   4    5    6    7       8       9       10      11  \\\n",
       "1  1.7560  2.0270  2.1128   0  T-H  0.0  0.0  1.1911  1.5495  1.2146  5502.0   \n",
       "2  1.8959  2.2239  2.5790   0  T-H  0.0  0.0  1.1911  1.5473  1.2975  5502.0   \n",
       "3  1.8862  2.3092  2.4533   0  T-H  0.0  0.0  1.1532  1.3844  1.2268  5502.0   \n",
       "4  1.8554  2.4221  2.1508   0  T-H  0.0  0.0  1.1532  1.4365  1.2423  5500.0   \n",
       "5  1.8554  2.5357  2.2598   0  T-H  0.0  0.0  1.1532  1.5749  1.2110  5500.0   \n",
       "\n",
       "     12  \n",
       "1  32.0  \n",
       "2  32.0  \n",
       "3  32.0  \n",
       "4  32.0  \n",
       "5  32.0  "
      ]
     },
     "execution_count": 11,
     "metadata": {},
     "output_type": "execute_result"
    }
   ],
   "source": [
    "data.dropna(axis='columns',thresh=10,inplace=True)\n",
    "data.dropna(axis='rows',how='any',inplace=True)\n",
    "data.drop([0],axis=1,inplace=True)\n",
    "data.head()"
   ]
  },
  {
   "cell_type": "code",
   "execution_count": 12,
   "metadata": {},
   "outputs": [],
   "source": [
    "data.to_csv(\"flourescentLamp6inrandommod\",index=False)"
   ]
  },
  {
   "cell_type": "code",
   "execution_count": 17,
   "metadata": {},
   "outputs": [],
   "source": [
    "blankdata= np.zeros([600,12])\n",
    "blankdf=pd.DataFrame(blankdata)"
   ]
  },
  {
   "cell_type": "code",
   "execution_count": 18,
   "metadata": {},
   "outputs": [
    {
     "data": {
      "text/html": [
       "<div>\n",
       "<style scoped>\n",
       "    .dataframe tbody tr th:only-of-type {\n",
       "        vertical-align: middle;\n",
       "    }\n",
       "\n",
       "    .dataframe tbody tr th {\n",
       "        vertical-align: top;\n",
       "    }\n",
       "\n",
       "    .dataframe thead th {\n",
       "        text-align: right;\n",
       "    }\n",
       "</style>\n",
       "<table border=\"1\" class=\"dataframe\">\n",
       "  <thead>\n",
       "    <tr style=\"text-align: right;\">\n",
       "      <th></th>\n",
       "      <th>0</th>\n",
       "      <th>1</th>\n",
       "      <th>2</th>\n",
       "      <th>3</th>\n",
       "      <th>4</th>\n",
       "      <th>5</th>\n",
       "      <th>6</th>\n",
       "      <th>7</th>\n",
       "      <th>8</th>\n",
       "      <th>9</th>\n",
       "      <th>10</th>\n",
       "      <th>11</th>\n",
       "    </tr>\n",
       "  </thead>\n",
       "  <tbody>\n",
       "    <tr>\n",
       "      <th>0</th>\n",
       "      <td>0.0</td>\n",
       "      <td>0.0</td>\n",
       "      <td>0.0</td>\n",
       "      <td>0.0</td>\n",
       "      <td>0.0</td>\n",
       "      <td>0.0</td>\n",
       "      <td>0.0</td>\n",
       "      <td>0.0</td>\n",
       "      <td>0.0</td>\n",
       "      <td>0.0</td>\n",
       "      <td>0.0</td>\n",
       "      <td>0.0</td>\n",
       "    </tr>\n",
       "    <tr>\n",
       "      <th>1</th>\n",
       "      <td>0.0</td>\n",
       "      <td>0.0</td>\n",
       "      <td>0.0</td>\n",
       "      <td>0.0</td>\n",
       "      <td>0.0</td>\n",
       "      <td>0.0</td>\n",
       "      <td>0.0</td>\n",
       "      <td>0.0</td>\n",
       "      <td>0.0</td>\n",
       "      <td>0.0</td>\n",
       "      <td>0.0</td>\n",
       "      <td>0.0</td>\n",
       "    </tr>\n",
       "    <tr>\n",
       "      <th>2</th>\n",
       "      <td>0.0</td>\n",
       "      <td>0.0</td>\n",
       "      <td>0.0</td>\n",
       "      <td>0.0</td>\n",
       "      <td>0.0</td>\n",
       "      <td>0.0</td>\n",
       "      <td>0.0</td>\n",
       "      <td>0.0</td>\n",
       "      <td>0.0</td>\n",
       "      <td>0.0</td>\n",
       "      <td>0.0</td>\n",
       "      <td>0.0</td>\n",
       "    </tr>\n",
       "    <tr>\n",
       "      <th>3</th>\n",
       "      <td>0.0</td>\n",
       "      <td>0.0</td>\n",
       "      <td>0.0</td>\n",
       "      <td>0.0</td>\n",
       "      <td>0.0</td>\n",
       "      <td>0.0</td>\n",
       "      <td>0.0</td>\n",
       "      <td>0.0</td>\n",
       "      <td>0.0</td>\n",
       "      <td>0.0</td>\n",
       "      <td>0.0</td>\n",
       "      <td>0.0</td>\n",
       "    </tr>\n",
       "    <tr>\n",
       "      <th>4</th>\n",
       "      <td>0.0</td>\n",
       "      <td>0.0</td>\n",
       "      <td>0.0</td>\n",
       "      <td>0.0</td>\n",
       "      <td>0.0</td>\n",
       "      <td>0.0</td>\n",
       "      <td>0.0</td>\n",
       "      <td>0.0</td>\n",
       "      <td>0.0</td>\n",
       "      <td>0.0</td>\n",
       "      <td>0.0</td>\n",
       "      <td>0.0</td>\n",
       "    </tr>\n",
       "  </tbody>\n",
       "</table>\n",
       "</div>"
      ],
      "text/plain": [
       "     0    1    2    3    4    5    6    7    8    9   10   11\n",
       "0  0.0  0.0  0.0  0.0  0.0  0.0  0.0  0.0  0.0  0.0  0.0  0.0\n",
       "1  0.0  0.0  0.0  0.0  0.0  0.0  0.0  0.0  0.0  0.0  0.0  0.0\n",
       "2  0.0  0.0  0.0  0.0  0.0  0.0  0.0  0.0  0.0  0.0  0.0  0.0\n",
       "3  0.0  0.0  0.0  0.0  0.0  0.0  0.0  0.0  0.0  0.0  0.0  0.0\n",
       "4  0.0  0.0  0.0  0.0  0.0  0.0  0.0  0.0  0.0  0.0  0.0  0.0"
      ]
     },
     "execution_count": 18,
     "metadata": {},
     "output_type": "execute_result"
    }
   ],
   "source": [
    "blankdf.head()"
   ]
  },
  {
   "cell_type": "code",
   "execution_count": 19,
   "metadata": {},
   "outputs": [],
   "source": [
    "blankdf.to_csv(\"blank.txt\",index=False)"
   ]
  },
  {
   "cell_type": "code",
   "execution_count": 63,
   "metadata": {},
   "outputs": [],
   "source": [
    "halogensim=np.array([240.0,180.0,100.0,145.0,0,0.0,0.0,1.1911,1.5495,1.2146,5502.0,32.0])"
   ]
  },
  {
   "cell_type": "code",
   "execution_count": 64,
   "metadata": {},
   "outputs": [],
   "source": [
    "for i in range(9):\n",
    "    halogensim=np.vstack((halogensim,halogensim))"
   ]
  },
  {
   "cell_type": "code",
   "execution_count": 65,
   "metadata": {},
   "outputs": [
    {
     "data": {
      "text/plain": [
       "(512, 12)"
      ]
     },
     "execution_count": 65,
     "metadata": {},
     "output_type": "execute_result"
    }
   ],
   "source": [
    "halogensim.shape"
   ]
  },
  {
   "cell_type": "code",
   "execution_count": 66,
   "metadata": {},
   "outputs": [],
   "source": [
    "halogensimdf=pd.DataFrame(halogensim)"
   ]
  },
  {
   "cell_type": "code",
   "execution_count": 67,
   "metadata": {},
   "outputs": [],
   "source": [
    "halogensimdf.to_csv(\"acetylene.txt\",index=False)"
   ]
  },
  {
   "cell_type": "code",
   "execution_count": 48,
   "metadata": {},
   "outputs": [],
   "source": [
    "testdata=pd.read_csv(\"halogensim.txt\", header = None,error_bad_lines=False)"
   ]
  },
  {
   "cell_type": "code",
   "execution_count": 49,
   "metadata": {},
   "outputs": [
    {
     "data": {
      "text/plain": [
       "(257, 12)"
      ]
     },
     "execution_count": 49,
     "metadata": {},
     "output_type": "execute_result"
    }
   ],
   "source": [
    "testdata.shape"
   ]
  },
  {
   "cell_type": "code",
   "execution_count": null,
   "metadata": {},
   "outputs": [],
   "source": [
    "/home/adam/Desktop/assignments/Capstone\\ 1\\ /\n"
   ]
  }
 ],
 "metadata": {
  "kernelspec": {
   "display_name": "Python 3",
   "language": "python",
   "name": "python3"
  },
  "language_info": {
   "codemirror_mode": {
    "name": "ipython",
    "version": 3
   },
   "file_extension": ".py",
   "mimetype": "text/x-python",
   "name": "python",
   "nbconvert_exporter": "python",
   "pygments_lexer": "ipython3",
   "version": "3.7.7"
  }
 },
 "nbformat": 4,
 "nbformat_minor": 4
}
