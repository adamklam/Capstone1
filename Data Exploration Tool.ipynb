{
 "cells": [
  {
   "cell_type": "code",
   "execution_count": 1,
   "metadata": {},
   "outputs": [],
   "source": [
    "import pandas as pd\n",
    "import numpy as np\n",
    "import matplotlib.pyplot as plt\n",
    "from PIL import Image, ImageTk\n",
    "\n",
    "from appJar import gui"
   ]
  },
  {
   "cell_type": "code",
   "execution_count": 2,
   "metadata": {},
   "outputs": [
    {
     "name": "stderr",
     "output_type": "stream",
     "text": [
      "2020-12-19 12:50:32,600 appJar:WARNING [799/_checkMode]: Interactive mode is not fully tested, some features might not work.\n",
      "2020-12-19 12:50:32,603 appJar:WARNING [810/_checkMode]: iPython is not fully tested, some features might not work.\n"
     ]
    }
   ],
   "source": [
    "\n",
    "app = gui('Window', '1000x800')\n",
    "app.showSplash(\"Detectors Incorporated \\n Data Exploration Tool\", fill='red', stripe='black', fg='white', font=64)\n",
    "app.addLabel(\"title\", \"Sensor Data Exploration tool\")\n",
    "app.setLabelBg(\"title\", \"White\")\n",
    "app.setBg('silver')\n",
    "\n",
    "startpos=0\n",
    "filepath=\"\"\n",
    "##takes txt/csv, cleans it of errors from the trasmission from device to laptop, and returns pandas dataframe of the file\n",
    "def data_to_parse(filepath):\n",
    "    data=pd.read_csv(filepath, header = None,error_bad_lines=False)\n",
    "    data.dropna(axis='columns',thresh=10,inplace=True)\n",
    "    data.dropna(axis='rows',how='any',inplace=True)\n",
    "    data.columns=['4.3um','3.8um','2.7um','UV','none1','none2','none3','4.3um25hz','3.8um25hz','2.7um25hz','DC','none4']\n",
    "    parsed={'Ch1':data['4.3um'],'Ch2':data['3.8um'],'Ch3':data['2.7um'],'UV':data['UV']}\n",
    "    df=pd.DataFrame(parsed)\n",
    "    return df\n",
    "##takes pandas dataframe, and produces graph from it.\n",
    "def df_to_graph(df,plotname):\n",
    "    fig = app.addPlotFig(plotname)\n",
    "    ax = fig.add_subplot(111)\n",
    "    ax.plot('Ch1',data=df,color='red')\n",
    "    ax.plot('Ch2',data=df,color='green')\n",
    "    ax.plot('Ch3',data=df,color='blue')\n",
    "    ax.plot('UV',data=df,color='orange')\n",
    "    ax.set_title(plotname)\n",
    "    \n",
    "##makes an array that is formated like an image for slicing\n",
    "def df_to_numpyarr(df):\n",
    "    global numpyarrlen\n",
    "    df['maxir']=df[['Ch1','Ch2','Ch3']].max(axis=1)\n",
    "    maxIR=df.maxir.max()\n",
    "    if maxIR >255:\n",
    "        scaling_factor=maxIR/255\n",
    "    else: \n",
    "        scaling_factor =1\n",
    "    df['scaled_Ch1']=(df['Ch1']/scaling_factor).round().astype(int)\n",
    "    df['scaled_Ch2']=(df['Ch2']/scaling_factor).round().astype(int)\n",
    "    df['scaled_Ch3']=(df['Ch3']/scaling_factor).round().astype(int)\n",
    "    numpyarr=df[['scaled_Ch1','scaled_Ch2','scaled_Ch3']].to_numpy().astype(np.uint8)\n",
    "    numpyarrlen=len(numpyarr)\n",
    "    \n",
    "    numpyarr=numpyarr.reshape(1,numpyarrlen,3)\n",
    "##stacks it a few times so its not a 1 pixel line\n",
    "    for i in range(5):\n",
    "        numpyarr=np.vstack((numpyarr,numpyarr))\n",
    "##makes a greyscale line for the UV\n",
    "    df['scaled_UV']=(df['UV']/2).round().astype(int)\n",
    "    \n",
    "    UVarr=df[['scaled_UV']].to_numpy()\n",
    "    UVarr=np.where(UVarr<255,UVarr,255).astype(np.uint8)\n",
    "    UVlen=len(UVarr)\n",
    "    UVarr=UVarr.reshape(1,UVlen,1)\n",
    "    UVarrcopy=np.copy(UVarr)\n",
    "    for j in range(2):\n",
    "        UVarr=np.dstack((UVarr,UVarrcopy))\n",
    "    for k in range(5):\n",
    "        UVarr=np.vstack((UVarr,UVarr))\n",
    "    UVIR_numpyarr=np.vstack((numpyarr,UVarr)).astype(np.uint8)\n",
    "    return UVIR_numpyarr\n",
    "        \n",
    "    return numpyarr\n",
    "def numpyarr_to_img(numpyarr,showall=0):\n",
    "    global startpos\n",
    "    start= startpos\n",
    "    ##sets image window to 600 points, 2minutes at 5 samples per second\n",
    "    stop=start+600\n",
    "    ##toggles between showing all or 600 sample slice\n",
    "    if showall==0:\n",
    "        ##handles cases to prevent asking for slice outside of range\n",
    "        if len(numpyarr[0])<600:\n",
    "            start=0\n",
    "            stop=600\n",
    "        if len(numpyarr[0])<start:\n",
    "            startpos=len(numpyarr[0])-150\n",
    "            start=startpos\n",
    "            stop=start+600\n",
    "        if len(numpyarr[0])<stop:\n",
    "            filler=np.zeros((64,600,3))\n",
    "            numpyarr=np.hstack((numpyarr,filler))\n",
    "         #returns RGB image of slice\n",
    "        numpyslice=numpyarr[:,start:stop,:].astype(np.uint8)\n",
    "    else:\n",
    "        numpyslice=numpyarr\n",
    "    im = Image.fromarray(numpyslice)\n",
    "    fire_pic = ImageTk.PhotoImage(im)\n",
    "    return fire_pic\n",
    "\n",
    "def show_data():\n",
    "    global filepath\n",
    "    filepath=app.getEntry(\"datafile\")\n",
    "    app.reloadImageData(\"fire_pic_all\", numpyarr_to_img(df_to_numpyarr(data_to_parse(filepath)),showall=1), fmt=\"PhotoImage\")\n",
    "    app.reloadImageData(\"fire_pic\", numpyarr_to_img(df_to_numpyarr(data_to_parse(filepath))), fmt=\"PhotoImage\")\n",
    "    df_to_graph(data_to_parse(filepath),\"Opened Data\")\n",
    "    \n",
    "def show_compare():\n",
    "    option=app.getOptionBox(\"Compare Light Source\")\n",
    "    if option==\"Flourescent\":\n",
    "        app.reloadImageData(\"FAsources\", numpyarr_to_img(df_to_numpyarr(data_to_parse(\"flourescentLamp6inrandommod.txt\"))), fmt=\"PhotoImage\")\n",
    "    if option==\"Halogen\":\n",
    "        app.reloadImageData(\"FAsources\", numpyarr_to_img(df_to_numpyarr(data_to_parse(\"halogensim.txt\"))), fmt=\"PhotoImage\")\n",
    "    if option==\"Blackbody Radiation 370C\":\n",
    "        app.reloadImageData(\"FAsources\", numpyarr_to_img(df_to_numpyarr(data_to_parse(\"blackbodysim.txt\"))), fmt=\"PhotoImage\")\n",
    "    if option==\"ArcWelding\":\n",
    "        app.reloadImageData(\"FAsources\", numpyarr_to_img(df_to_numpyarr(data_to_parse(\"arcweldingsim.txt\"))), fmt=\"PhotoImage\")\n",
    "    if option==\"Methane\":\n",
    "        app.reloadImageData(\"FAsources\", numpyarr_to_img(df_to_numpyarr(data_to_parse(\"methane.txt\"))), fmt=\"PhotoImage\")\n",
    "    if option==\"Acetylene\":\n",
    "        app.reloadImageData(\"FAsources\", numpyarr_to_img(df_to_numpyarr(data_to_parse(\"acetylene.txt\"))), fmt=\"PhotoImage\")\n",
    "    \n",
    "        "
   ]
  },
  {
   "cell_type": "code",
   "execution_count": 3,
   "metadata": {},
   "outputs": [
    {
     "data": {
      "text/plain": [
       "<PIL.ImageTk.PhotoImage at 0x7fd120d04ed0>"
      ]
     },
     "execution_count": 3,
     "metadata": {},
     "output_type": "execute_result"
    }
   ],
   "source": [
    "\n",
    "\n",
    "app.addFileEntry(\"datafile\")\n",
    "app.setEntryChangeFunction(\"datafile\", show_data)\n",
    "\n",
    "app.addOptionBox(\"Compare Light Source\", [\"Methane\",\"Acetylene\",\"Flourescent\",\"ArcWelding\", \"Halogen\", \"handwave\", \"Blackbody Radiation 370C\",\"flourescent Through PP Window\", \"Halogen Through PP Window\", \"Handwave Through PP Window\", \"Blackbody Radiation 370C Through PP Window\"])\n",
    "app.setOptionBoxChangeFunction(\"Compare Light Source\",show_compare)\n",
    "\n",
    "def press(btnName):\n",
    "    global startpos\n",
    "    global filepath\n",
    "    if btnName == \">>>\":\n",
    "        startpos+=150\n",
    "        app.reloadImageData(\"fire_pic\",numpyarr_to_img(df_to_numpyarr(data_to_parse(filepath))), fmt=\"PhotoImage\")\n",
    "    if btnName == \"<<<\":\n",
    "        startpos-=150\n",
    "        if startpos<0:\n",
    "            startpos=0\n",
    "        app.reloadImageData(\"fire_pic\",numpyarr_to_img(df_to_numpyarr(data_to_parse(filepath))), fmt=\"PhotoImage\")\n",
    "\n",
    "\n",
    "app.addButtons( [\"<<<\", \">>>\"], press, colspan=2)\n",
    "app.addImageData(\"fire_pic_all\", numpyarr_to_img(df_to_numpyarr(data_to_parse(\"blank.txt\")),showall=1), fmt=\"PhotoImage\")\n",
    "app.addImageData(\"fire_pic\", numpyarr_to_img(df_to_numpyarr(data_to_parse(\"blank.txt\"))), fmt=\"PhotoImage\")\n",
    "app.addImageData(\"FAsources\", numpyarr_to_img(df_to_numpyarr(data_to_parse(\"blank.txt\"))), fmt=\"PhotoImage\")\n"
   ]
  },
  {
   "cell_type": "code",
   "execution_count": 4,
   "metadata": {
    "scrolled": true
   },
   "outputs": [
    {
     "name": "stderr",
     "output_type": "stream",
     "text": [
      "b'Skipping line 572: expected 14 fields, saw 25\\nSkipping line 1150: expected 14 fields, saw 16\\n'\n",
      "b'Skipping line 572: expected 14 fields, saw 25\\nSkipping line 1150: expected 14 fields, saw 16\\n'\n",
      "b'Skipping line 572: expected 14 fields, saw 25\\nSkipping line 1150: expected 14 fields, saw 16\\n'\n",
      "b'Skipping line 572: expected 14 fields, saw 25\\nSkipping line 1150: expected 14 fields, saw 16\\n'\n",
      "b'Skipping line 572: expected 14 fields, saw 25\\nSkipping line 1150: expected 14 fields, saw 16\\n'\n",
      "b'Skipping line 572: expected 14 fields, saw 25\\nSkipping line 1150: expected 14 fields, saw 16\\n'\n",
      "b'Skipping line 572: expected 14 fields, saw 25\\nSkipping line 1150: expected 14 fields, saw 16\\n'\n",
      "b'Skipping line 572: expected 14 fields, saw 25\\nSkipping line 1150: expected 14 fields, saw 16\\n'\n",
      "b'Skipping line 572: expected 14 fields, saw 25\\nSkipping line 1150: expected 14 fields, saw 16\\n'\n",
      "b'Skipping line 572: expected 14 fields, saw 25\\nSkipping line 1150: expected 14 fields, saw 16\\n'\n",
      "b'Skipping line 572: expected 14 fields, saw 25\\nSkipping line 1150: expected 14 fields, saw 16\\n'\n",
      "b'Skipping line 572: expected 14 fields, saw 25\\nSkipping line 1150: expected 14 fields, saw 16\\n'\n",
      "b'Skipping line 572: expected 14 fields, saw 25\\nSkipping line 1150: expected 14 fields, saw 16\\n'\n",
      "b'Skipping line 572: expected 14 fields, saw 25\\nSkipping line 1150: expected 14 fields, saw 16\\n'\n",
      "b'Skipping line 572: expected 14 fields, saw 25\\nSkipping line 1150: expected 14 fields, saw 16\\n'\n",
      "b'Skipping line 572: expected 14 fields, saw 25\\nSkipping line 1150: expected 14 fields, saw 16\\n'\n",
      "b'Skipping line 572: expected 14 fields, saw 25\\nSkipping line 1150: expected 14 fields, saw 16\\n'\n",
      "b'Skipping line 572: expected 14 fields, saw 25\\nSkipping line 1150: expected 14 fields, saw 16\\n'\n",
      "b'Skipping line 572: expected 14 fields, saw 25\\nSkipping line 1150: expected 14 fields, saw 16\\n'\n",
      "b'Skipping line 572: expected 14 fields, saw 25\\nSkipping line 1150: expected 14 fields, saw 16\\n'\n",
      "b'Skipping line 572: expected 14 fields, saw 25\\nSkipping line 1150: expected 14 fields, saw 16\\n'\n",
      "b'Skipping line 572: expected 14 fields, saw 25\\nSkipping line 1150: expected 14 fields, saw 16\\n'\n",
      "b'Skipping line 572: expected 14 fields, saw 25\\nSkipping line 1150: expected 14 fields, saw 16\\n'\n",
      "b'Skipping line 572: expected 14 fields, saw 25\\nSkipping line 1150: expected 14 fields, saw 16\\n'\n"
     ]
    }
   ],
   "source": [
    "app.go()"
   ]
  },
  {
   "cell_type": "code",
   "execution_count": null,
   "metadata": {},
   "outputs": [],
   "source": []
  }
 ],
 "metadata": {
  "kernelspec": {
   "display_name": "Python 3",
   "language": "python",
   "name": "python3"
  },
  "language_info": {
   "codemirror_mode": {
    "name": "ipython",
    "version": 3
   },
   "file_extension": ".py",
   "mimetype": "text/x-python",
   "name": "python",
   "nbconvert_exporter": "python",
   "pygments_lexer": "ipython3",
   "version": "3.7.7"
  }
 },
 "nbformat": 4,
 "nbformat_minor": 4
}
