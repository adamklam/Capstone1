{
 "cells": [
  {
   "cell_type": "code",
   "execution_count": 1,
   "metadata": {},
   "outputs": [],
   "source": [
    "import pandas as pd\n",
    "import numpy as np\n",
    "import matplotlib.pyplot as plt\n",
    "from PIL import Image, ImageTk\n",
    "\n",
    "from appJar import gui\n"
   ]
  },
  {
   "cell_type": "markdown",
   "metadata": {},
   "source": [
    "# The Data Parsing pipeline"
   ]
  },
  {
   "cell_type": "code",
   "execution_count": 2,
   "metadata": {},
   "outputs": [],
   "source": [
    "def data_to_parse(filepath):\n",
    "    data=pd.read_csv(filepath, header = None)\n",
    "    data.dropna(axis='columns',thresh=10,inplace=True)\n",
    "    data.dropna(axis='rows',how='any',inplace=True)\n",
    "    data.columns=['4.3um','3.8um','2.7um','UV','none1','none2','none3','4.3um25hz','3.8um25hz','2.7um25hz','DC','none4']\n",
    "    parsed={'Ch1':data['4.3um'],'Ch2':data['3.8um'],'Ch3':data['2.7um'],'UV':data['UV']}\n",
    "    df=pd.DataFrame(parsed)\n",
    "    return df"
   ]
  },
  {
   "cell_type": "code",
   "execution_count": 3,
   "metadata": {},
   "outputs": [],
   "source": [
    "def df_to_graph(df,plotname):\n",
    "    fig = app.addPlotFig(plotname)\n",
    "    ax = fig.add_subplot(111)\n",
    "    ax.plot('Ch1',data=df,color='red')\n",
    "    ax.plot('Ch2',data=df,color='green')\n",
    "    ax.plot('Ch3',data=df,color='blue')\n",
    "    ax.plot('UV',data=df,color='orange')\n",
    "    ax.set_title(plotname)"
   ]
  },
  {
   "cell_type": "code",
   "execution_count": 4,
   "metadata": {},
   "outputs": [],
   "source": [
    "def df_to_numpyarr(df,imgname):\n",
    "    df['maxir']=df[['um43','um38','um27']].max(axis=1)\n",
    "    maxIR=df.maxir.max()\n",
    "    if maxIR >255:\n",
    "        scaling_factor=maxIR/255\n",
    "    else: \n",
    "        scaling_factor =1\n",
    "    df['s43']=(df['um43']/scaling_factor).round().astype(int)\n",
    "    df['s38']=(df['um38']/scaling_factor).round().astype(int)\n",
    "    df['s27']=(df['um27']/scaling_factor).round().astype(int)\n",
    "    numpyarr=df[['s43','s38','s27']].to_numpy().astype(np.uint8)\n",
    "    numpyarrlen=len(nparr)\n",
    "    \n",
    "    numpyarr=numpyarr.reshape(1,numpyarrlen,3)\n",
    "    for i in range(5):\n",
    "        numpyarr=np.vstack((nparr,nparr))\n",
    "    return numpyarr"
   ]
  },
  {
   "cell_type": "code",
   "execution_count": null,
   "metadata": {},
   "outputs": [],
   "source": [
    "def numpyarr_to_image(numpyarr,start=0,end=500):\n",
    "    "
   ]
  },
  {
   "cell_type": "code",
   "execution_count": 5,
   "metadata": {},
   "outputs": [],
   "source": [
    "df_to_graph(data_to_parse(\"polypropylene3ir_hand_ligter_ethanol_hept.txt\"),'plot1')"
   ]
  },
  {
   "cell_type": "code",
   "execution_count": 23,
   "metadata": {},
   "outputs": [],
   "source": [
    "unparsed=pd.read_csv(\"polypropylene3ir_hand_ligter_ethanol_hept.txt\", header = None)"
   ]
  },
  {
   "cell_type": "markdown",
   "metadata": {},
   "source": []
  },
  {
   "cell_type": "code",
   "execution_count": 37,
   "metadata": {},
   "outputs": [],
   "source": [
    "unparsed.dropna(axis='columns',thresh=10,inplace=True)\n",
    "unparsed.dropna(axis='rows',how='any',inplace=True)\n",
    "\n",
    "unparsed.columns=['4.3um','3.8um','2.7um','UV','none1','none2','none3','4.3um25hz','3.8um25hz','2.7um25hz','DC','none4']"
   ]
  },
  {
   "cell_type": "code",
   "execution_count": 38,
   "metadata": {},
   "outputs": [
    {
     "data": {
      "text/html": [
       "<div>\n",
       "<style scoped>\n",
       "    .dataframe tbody tr th:only-of-type {\n",
       "        vertical-align: middle;\n",
       "    }\n",
       "\n",
       "    .dataframe tbody tr th {\n",
       "        vertical-align: top;\n",
       "    }\n",
       "\n",
       "    .dataframe thead th {\n",
       "        text-align: right;\n",
       "    }\n",
       "</style>\n",
       "<table border=\"1\" class=\"dataframe\">\n",
       "  <thead>\n",
       "    <tr style=\"text-align: right;\">\n",
       "      <th></th>\n",
       "      <th>4.3um</th>\n",
       "      <th>3.8um</th>\n",
       "      <th>2.7um</th>\n",
       "      <th>UV</th>\n",
       "      <th>none1</th>\n",
       "      <th>none2</th>\n",
       "      <th>none3</th>\n",
       "      <th>4.3um25hz</th>\n",
       "      <th>3.8um25hz</th>\n",
       "      <th>2.7um25hz</th>\n",
       "      <th>DC</th>\n",
       "      <th>none4</th>\n",
       "    </tr>\n",
       "  </thead>\n",
       "  <tbody>\n",
       "    <tr>\n",
       "      <th>0</th>\n",
       "      <td>1.8770</td>\n",
       "      <td>1.3429</td>\n",
       "      <td>1.7081</td>\n",
       "      <td>0</td>\n",
       "      <td>T-H</td>\n",
       "      <td>0.0</td>\n",
       "      <td>0.0</td>\n",
       "      <td>1.2782</td>\n",
       "      <td>1.1375</td>\n",
       "      <td>1.0231</td>\n",
       "      <td>16277.0</td>\n",
       "      <td>160.0</td>\n",
       "    </tr>\n",
       "    <tr>\n",
       "      <th>1</th>\n",
       "      <td>1.6586</td>\n",
       "      <td>1.5536</td>\n",
       "      <td>1.7207</td>\n",
       "      <td>0</td>\n",
       "      <td>T-H</td>\n",
       "      <td>0.0</td>\n",
       "      <td>0.0</td>\n",
       "      <td>1.1793</td>\n",
       "      <td>1.1267</td>\n",
       "      <td>1.0629</td>\n",
       "      <td>16277.0</td>\n",
       "      <td>160.0</td>\n",
       "    </tr>\n",
       "    <tr>\n",
       "      <th>2</th>\n",
       "      <td>1.6586</td>\n",
       "      <td>1.5536</td>\n",
       "      <td>1.7207</td>\n",
       "      <td>0</td>\n",
       "      <td>T-H</td>\n",
       "      <td>0.0</td>\n",
       "      <td>0.0</td>\n",
       "      <td>1.1793</td>\n",
       "      <td>1.1267</td>\n",
       "      <td>1.0629</td>\n",
       "      <td>16277.0</td>\n",
       "      <td>160.0</td>\n",
       "    </tr>\n",
       "    <tr>\n",
       "      <th>3</th>\n",
       "      <td>1.7369</td>\n",
       "      <td>1.7027</td>\n",
       "      <td>1.9061</td>\n",
       "      <td>0</td>\n",
       "      <td>T-H</td>\n",
       "      <td>0.0</td>\n",
       "      <td>0.0</td>\n",
       "      <td>1.2090</td>\n",
       "      <td>1.1917</td>\n",
       "      <td>1.1147</td>\n",
       "      <td>16267.0</td>\n",
       "      <td>160.0</td>\n",
       "    </tr>\n",
       "    <tr>\n",
       "      <th>4</th>\n",
       "      <td>1.7487</td>\n",
       "      <td>1.5164</td>\n",
       "      <td>1.8708</td>\n",
       "      <td>0</td>\n",
       "      <td>T-H</td>\n",
       "      <td>0.0</td>\n",
       "      <td>0.0</td>\n",
       "      <td>1.3263</td>\n",
       "      <td>1.2142</td>\n",
       "      <td>1.1729</td>\n",
       "      <td>16267.0</td>\n",
       "      <td>160.0</td>\n",
       "    </tr>\n",
       "  </tbody>\n",
       "</table>\n",
       "</div>"
      ],
      "text/plain": [
       "    4.3um   3.8um   2.7um  UV none1  none2  none3  4.3um25hz  3.8um25hz  \\\n",
       "0  1.8770  1.3429  1.7081   0   T-H    0.0    0.0     1.2782     1.1375   \n",
       "1  1.6586  1.5536  1.7207   0   T-H    0.0    0.0     1.1793     1.1267   \n",
       "2  1.6586  1.5536  1.7207   0   T-H    0.0    0.0     1.1793     1.1267   \n",
       "3  1.7369  1.7027  1.9061   0   T-H    0.0    0.0     1.2090     1.1917   \n",
       "4  1.7487  1.5164  1.8708   0   T-H    0.0    0.0     1.3263     1.2142   \n",
       "\n",
       "   2.7um25hz       DC  none4  \n",
       "0     1.0231  16277.0  160.0  \n",
       "1     1.0629  16277.0  160.0  \n",
       "2     1.0629  16277.0  160.0  \n",
       "3     1.1147  16267.0  160.0  \n",
       "4     1.1729  16267.0  160.0  "
      ]
     },
     "execution_count": 38,
     "metadata": {},
     "output_type": "execute_result"
    }
   ],
   "source": [
    "unparsed.head()"
   ]
  },
  {
   "cell_type": "code",
   "execution_count": 6,
   "metadata": {},
   "outputs": [],
   "source": [
    "data={'um43':unparsed['4.3um'],'um38':unparsed['3.8um'],'um27':unparsed['2.7um'],'UV':unparsed['UV']}\n",
    "df = pd.DataFrame(data) "
   ]
  },
  {
   "cell_type": "code",
   "execution_count": 7,
   "metadata": {},
   "outputs": [
    {
     "data": {
      "text/html": [
       "<div>\n",
       "<style scoped>\n",
       "    .dataframe tbody tr th:only-of-type {\n",
       "        vertical-align: middle;\n",
       "    }\n",
       "\n",
       "    .dataframe tbody tr th {\n",
       "        vertical-align: top;\n",
       "    }\n",
       "\n",
       "    .dataframe thead th {\n",
       "        text-align: right;\n",
       "    }\n",
       "</style>\n",
       "<table border=\"1\" class=\"dataframe\">\n",
       "  <thead>\n",
       "    <tr style=\"text-align: right;\">\n",
       "      <th></th>\n",
       "      <th>um43</th>\n",
       "      <th>um38</th>\n",
       "      <th>um27</th>\n",
       "      <th>UV</th>\n",
       "    </tr>\n",
       "  </thead>\n",
       "  <tbody>\n",
       "    <tr>\n",
       "      <th>0</th>\n",
       "      <td>1.8770</td>\n",
       "      <td>1.3429</td>\n",
       "      <td>1.7081</td>\n",
       "      <td>0</td>\n",
       "    </tr>\n",
       "    <tr>\n",
       "      <th>1</th>\n",
       "      <td>1.6586</td>\n",
       "      <td>1.5536</td>\n",
       "      <td>1.7207</td>\n",
       "      <td>0</td>\n",
       "    </tr>\n",
       "    <tr>\n",
       "      <th>2</th>\n",
       "      <td>1.6586</td>\n",
       "      <td>1.5536</td>\n",
       "      <td>1.7207</td>\n",
       "      <td>0</td>\n",
       "    </tr>\n",
       "    <tr>\n",
       "      <th>3</th>\n",
       "      <td>1.7369</td>\n",
       "      <td>1.7027</td>\n",
       "      <td>1.9061</td>\n",
       "      <td>0</td>\n",
       "    </tr>\n",
       "    <tr>\n",
       "      <th>4</th>\n",
       "      <td>1.7487</td>\n",
       "      <td>1.5164</td>\n",
       "      <td>1.8708</td>\n",
       "      <td>0</td>\n",
       "    </tr>\n",
       "  </tbody>\n",
       "</table>\n",
       "</div>"
      ],
      "text/plain": [
       "     um43    um38    um27  UV\n",
       "0  1.8770  1.3429  1.7081   0\n",
       "1  1.6586  1.5536  1.7207   0\n",
       "2  1.6586  1.5536  1.7207   0\n",
       "3  1.7369  1.7027  1.9061   0\n",
       "4  1.7487  1.5164  1.8708   0"
      ]
     },
     "execution_count": 7,
     "metadata": {},
     "output_type": "execute_result"
    }
   ],
   "source": [
    "df.head()"
   ]
  },
  {
   "cell_type": "code",
   "execution_count": 8,
   "metadata": {},
   "outputs": [],
   "source": [
    "df['maxir']=df[['um43','um38','um27']].max(axis=1)"
   ]
  },
  {
   "cell_type": "code",
   "execution_count": 9,
   "metadata": {},
   "outputs": [
    {
     "name": "stdout",
     "output_type": "stream",
     "text": [
      "4.7413188235294115\n"
     ]
    }
   ],
   "source": [
    "maxIR=df.maxir.max()\n",
    "if maxIR >255:\n",
    "    scaling_factor=maxIR/255\n",
    "else: \n",
    "    scaling_factor =1\n",
    "print(scaling_factor)"
   ]
  },
  {
   "cell_type": "code",
   "execution_count": 10,
   "metadata": {},
   "outputs": [],
   "source": [
    "df['s43']=(df['um43']/scaling_factor).round().astype(int)\n",
    "df['s38']=(df['um38']/scaling_factor).round().astype(int)\n",
    "df['s27']=(df['um27']/scaling_factor).round().astype(int)"
   ]
  },
  {
   "cell_type": "code",
   "execution_count": 11,
   "metadata": {},
   "outputs": [
    {
     "data": {
      "text/html": [
       "<div>\n",
       "<style scoped>\n",
       "    .dataframe tbody tr th:only-of-type {\n",
       "        vertical-align: middle;\n",
       "    }\n",
       "\n",
       "    .dataframe tbody tr th {\n",
       "        vertical-align: top;\n",
       "    }\n",
       "\n",
       "    .dataframe thead th {\n",
       "        text-align: right;\n",
       "    }\n",
       "</style>\n",
       "<table border=\"1\" class=\"dataframe\">\n",
       "  <thead>\n",
       "    <tr style=\"text-align: right;\">\n",
       "      <th></th>\n",
       "      <th>index</th>\n",
       "      <th>um43</th>\n",
       "      <th>um38</th>\n",
       "      <th>um27</th>\n",
       "      <th>UV</th>\n",
       "      <th>maxir</th>\n",
       "      <th>s43</th>\n",
       "      <th>s38</th>\n",
       "      <th>s27</th>\n",
       "    </tr>\n",
       "  </thead>\n",
       "  <tbody>\n",
       "    <tr>\n",
       "      <th>0</th>\n",
       "      <td>0</td>\n",
       "      <td>1.8770</td>\n",
       "      <td>1.3429</td>\n",
       "      <td>1.7081</td>\n",
       "      <td>0</td>\n",
       "      <td>1.8770</td>\n",
       "      <td>0</td>\n",
       "      <td>0</td>\n",
       "      <td>0</td>\n",
       "    </tr>\n",
       "    <tr>\n",
       "      <th>1</th>\n",
       "      <td>1</td>\n",
       "      <td>1.6586</td>\n",
       "      <td>1.5536</td>\n",
       "      <td>1.7207</td>\n",
       "      <td>0</td>\n",
       "      <td>1.7207</td>\n",
       "      <td>0</td>\n",
       "      <td>0</td>\n",
       "      <td>0</td>\n",
       "    </tr>\n",
       "    <tr>\n",
       "      <th>2</th>\n",
       "      <td>2</td>\n",
       "      <td>1.6586</td>\n",
       "      <td>1.5536</td>\n",
       "      <td>1.7207</td>\n",
       "      <td>0</td>\n",
       "      <td>1.7207</td>\n",
       "      <td>0</td>\n",
       "      <td>0</td>\n",
       "      <td>0</td>\n",
       "    </tr>\n",
       "    <tr>\n",
       "      <th>3</th>\n",
       "      <td>3</td>\n",
       "      <td>1.7369</td>\n",
       "      <td>1.7027</td>\n",
       "      <td>1.9061</td>\n",
       "      <td>0</td>\n",
       "      <td>1.9061</td>\n",
       "      <td>0</td>\n",
       "      <td>0</td>\n",
       "      <td>0</td>\n",
       "    </tr>\n",
       "    <tr>\n",
       "      <th>4</th>\n",
       "      <td>4</td>\n",
       "      <td>1.7487</td>\n",
       "      <td>1.5164</td>\n",
       "      <td>1.8708</td>\n",
       "      <td>0</td>\n",
       "      <td>1.8708</td>\n",
       "      <td>0</td>\n",
       "      <td>0</td>\n",
       "      <td>0</td>\n",
       "    </tr>\n",
       "  </tbody>\n",
       "</table>\n",
       "</div>"
      ],
      "text/plain": [
       "   index    um43    um38    um27  UV   maxir  s43  s38  s27\n",
       "0      0  1.8770  1.3429  1.7081   0  1.8770    0    0    0\n",
       "1      1  1.6586  1.5536  1.7207   0  1.7207    0    0    0\n",
       "2      2  1.6586  1.5536  1.7207   0  1.7207    0    0    0\n",
       "3      3  1.7369  1.7027  1.9061   0  1.9061    0    0    0\n",
       "4      4  1.7487  1.5164  1.8708   0  1.8708    0    0    0"
      ]
     },
     "execution_count": 11,
     "metadata": {},
     "output_type": "execute_result"
    }
   ],
   "source": [
    "df.reset_index().head()"
   ]
  },
  {
   "cell_type": "code",
   "execution_count": 12,
   "metadata": {},
   "outputs": [
    {
     "data": {
      "image/png": "[encoded data removed]",
      "text/plain": [
       "<Figure size 432x288 with 1 Axes>"
      ]
     },
     "metadata": {
      "needs_background": "light"
     },
     "output_type": "display_data"
    }
   ],
   "source": [
    "plt.plot('s43',data=df,color='red')\n",
    "plt.plot('s38',data=df,color='green')\n",
    "plt.plot('s27',data=df,color='blue')\n",
    "plt.legend()\n",
    "plt.show()"
   ]
  },
  {
   "cell_type": "code",
   "execution_count": 13,
   "metadata": {},
   "outputs": [],
   "source": [
    "nparr=df[['s43','s38','s27']].to_numpy().astype(np.uint8)"
   ]
  },
  {
   "cell_type": "code",
   "execution_count": null,
   "metadata": {},
   "outputs": [],
   "source": []
  },
  {
   "cell_type": "code",
   "execution_count": 14,
   "metadata": {},
   "outputs": [
    {
     "name": "stdout",
     "output_type": "stream",
     "text": [
      "1380\n",
      "(1380, 3)\n",
      "(32, 1380, 3)\n"
     ]
    }
   ],
   "source": [
    "originallength=len(nparr)\n",
    "print(len(nparr))\n",
    "print(nparr.shape)\n",
    "nparr=nparr.reshape(1,originallength,3)\n",
    "for i in range(5):\n",
    "    nparr=np.vstack((nparr,nparr))\n",
    "\n",
    "print(nparr.shape)\n",
    "\n"
   ]
  },
  {
   "cell_type": "code",
   "execution_count": 15,
   "metadata": {},
   "outputs": [],
   "source": [
    "im = Image.fromarray(nparr)\n",
    "im.show()"
   ]
  },
  {
   "cell_type": "markdown",
   "metadata": {},
   "source": [
    "# The GUI "
   ]
  },
  {
   "cell_type": "markdown",
   "metadata": {},
   "source": [
    "### instantiating the gui"
   ]
  },
  {
   "cell_type": "code",
   "execution_count": 5,
   "metadata": {},
   "outputs": [
    {
     "name": "stderr",
     "output_type": "stream",
     "text": [
      "2020-12-18 21:39:24,941 appJar:WARNING [799/_checkMode]: Interactive mode is not fully tested, some features might not work.\n",
      "2020-12-18 21:39:24,944 appJar:WARNING [810/_checkMode]: iPython is not fully tested, some features might not work.\n"
     ]
    }
   ],
   "source": [
    "app = gui('Window', '1000x800')\n",
    "app.addLabel(\"title\", \"Sensor Data Exploration tool\")\n",
    "app.setLabelBg(\"title\", \"White\")\n",
    "app.setBg('silver')"
   ]
  },
  {
   "cell_type": "markdown",
   "metadata": {},
   "source": [
    "### buttons definitions and functions"
   ]
  },
  {
   "cell_type": "code",
   "execution_count": null,
   "metadata": {},
   "outputs": [],
   "source": [
    "def press(button):\n",
    "    if button == 'Open':\n",
    "        filename= app.openBox('Select Detector Data File', dirName=None, fileTypes=[('text','*.txt'),('text','*.csv')],asFile=True, parent=None, multiple=False, mode='w')"
   ]
  },
  {
   "cell_type": "code",
   "execution_count": 17,
   "metadata": {},
   "outputs": [
    {
     "ename": "NameError",
     "evalue": "name 'press' is not defined",
     "output_type": "error",
     "traceback": [
      "\u001b[0;31m---------------------------------------------------------------------------\u001b[0m",
      "\u001b[0;31mNameError\u001b[0m                                 Traceback (most recent call last)",
      "\u001b[0;32m<ipython-input-17-b655618fc8db>\u001b[0m in \u001b[0;36m<module>\u001b[0;34m\u001b[0m\n\u001b[0;32m----> 1\u001b[0;31m \u001b[0mapp\u001b[0m\u001b[0;34m.\u001b[0m\u001b[0maddButton\u001b[0m\u001b[0;34m(\u001b[0m\u001b[0;34m'Open'\u001b[0m\u001b[0;34m,\u001b[0m \u001b[0mpress\u001b[0m\u001b[0;34m)\u001b[0m\u001b[0;34m\u001b[0m\u001b[0;34m\u001b[0m\u001b[0m\n\u001b[0m\u001b[1;32m      2\u001b[0m \u001b[0mfilename\u001b[0m \u001b[0;34m=\u001b[0m \u001b[0mapp\u001b[0m\u001b[0;34m.\u001b[0m\u001b[0mopenBox\u001b[0m\u001b[0;34m(\u001b[0m\u001b[0;34m'Select Detector Data File'\u001b[0m\u001b[0;34m)\u001b[0m\u001b[0;34m\u001b[0m\u001b[0;34m\u001b[0m\u001b[0m\n",
      "\u001b[0;31mNameError\u001b[0m: name 'press' is not defined"
     ]
    }
   ],
   "source": [
    "app.addButton('Open', press)\n",
    "filename = app.openBox('Select Detector Data File')"
   ]
  },
  {
   "cell_type": "code",
   "execution_count": 6,
   "metadata": {},
   "outputs": [
    {
     "ename": "NameError",
     "evalue": "name 'im' is not defined",
     "output_type": "error",
     "traceback": [
      "\u001b[0;31m---------------------------------------------------------------------------\u001b[0m",
      "\u001b[0;31mNameError\u001b[0m                                 Traceback (most recent call last)",
      "\u001b[0;32m<ipython-input-6-63762b821bb1>\u001b[0m in \u001b[0;36m<module>\u001b[0;34m\u001b[0m\n\u001b[0;32m----> 1\u001b[0;31m \u001b[0mphoto\u001b[0m \u001b[0;34m=\u001b[0m \u001b[0mImageTk\u001b[0m\u001b[0;34m.\u001b[0m\u001b[0mPhotoImage\u001b[0m\u001b[0;34m(\u001b[0m\u001b[0mim\u001b[0m\u001b[0;34m)\u001b[0m\u001b[0;34m\u001b[0m\u001b[0;34m\u001b[0m\u001b[0m\n\u001b[0m\u001b[1;32m      2\u001b[0m \u001b[0mapp\u001b[0m\u001b[0;34m.\u001b[0m\u001b[0maddImageData\u001b[0m\u001b[0;34m(\u001b[0m\u001b[0;34m\"pic\"\u001b[0m\u001b[0;34m,\u001b[0m \u001b[0mphoto\u001b[0m\u001b[0;34m,\u001b[0m \u001b[0mfmt\u001b[0m\u001b[0;34m=\u001b[0m\u001b[0;34m\"PhotoImage\"\u001b[0m\u001b[0;34m)\u001b[0m\u001b[0;34m\u001b[0m\u001b[0;34m\u001b[0m\u001b[0m\n",
      "\u001b[0;31mNameError\u001b[0m: name 'im' is not defined"
     ]
    }
   ],
   "source": [
    "photo = ImageTk.PhotoImage(im)\n",
    "app.addImageData(\"pic\", photo, fmt=\"PhotoImage\")\n"
   ]
  },
  {
   "cell_type": "code",
   "execution_count": 6,
   "metadata": {},
   "outputs": [],
   "source": [
    "app.go()\n"
   ]
  },
  {
   "cell_type": "code",
   "execution_count": null,
   "metadata": {},
   "outputs": [],
   "source": [
    "pyinstaller --add-data \"arcweldingsim.txt:.\" --add-data \"blackbodysim.txt:.\" --add-data \"halogensim.txt:.\" --add-data \"flourescentLamp6inrandommod.txt:.\" --add-data \"acetylene.txt:.\" --add-data \"methane.txt:.\" simple1.py"
   ]
  }
 ],
 "metadata": {
  "kernelspec": {
   "display_name": "Python 3",
   "language": "python",
   "name": "python3"
  },
  "language_info": {
   "codemirror_mode": {
    "name": "ipython",
    "version": 3
   },
   "file_extension": ".py",
   "mimetype": "text/x-python",
   "name": "python",
   "nbconvert_exporter": "python",
   "pygments_lexer": "ipython3",
   "version": "3.7.7"
  }
 },
 "nbformat": 4,
 "nbformat_minor": 4
}
